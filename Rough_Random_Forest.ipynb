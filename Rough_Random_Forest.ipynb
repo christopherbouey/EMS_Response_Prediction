{
 "cells": [
  {
   "cell_type": "code",
   "execution_count": 1,
   "metadata": {},
   "outputs": [],
   "source": [
    "import pandas as pd\n",
    "from sklearn.ensemble import RandomForestRegressor\n",
    "from sklearn.model_selection import train_test_split, GridSearchCV\n",
    "import matplotlib.pyplot as plt\n",
    "%matplotlib inline"
   ]
  },
  {
   "cell_type": "code",
   "execution_count": 2,
   "metadata": {},
   "outputs": [],
   "source": [
    "df = pd.read_csv('20%_samp_cleaned.csv', index_col=0)"
   ]
  },
  {
   "cell_type": "code",
   "execution_count": 3,
   "metadata": {},
   "outputs": [
    {
     "name": "stdout",
     "output_type": "stream",
     "text": [
      "<class 'pandas.core.frame.DataFrame'>\n",
      "Int64Index: 774872 entries, 0 to 1091289\n",
      "Data columns (total 14 columns):\n",
      "Call Type                               774872 non-null object\n",
      "Received DtTm                           774872 non-null object\n",
      "Original Priority                       774872 non-null object\n",
      "ALS Unit                                774872 non-null int64\n",
      "Unit Type                               774872 non-null object\n",
      "Unit sequence in call dispatch          774872 non-null float64\n",
      "Neighborhooods - Analysis Boundaries    774872 non-null object\n",
      "call_to_disp                            774872 non-null float64\n",
      "disp_to_resp                            774872 non-null float64\n",
      "resp_to_scene                           774872 non-null float64\n",
      "Call Year                               774872 non-null int64\n",
      "Call Month                              774872 non-null int64\n",
      "Call DoW                                774872 non-null int64\n",
      "Call ToD                                774872 non-null int64\n",
      "dtypes: float64(4), int64(5), object(5)\n",
      "memory usage: 88.7+ MB\n"
     ]
    }
   ],
   "source": [
    "df.info()"
   ]
  },
  {
   "cell_type": "code",
   "execution_count": 4,
   "metadata": {},
   "outputs": [],
   "source": [
    "df.drop(labels='Received DtTm', axis=1, inplace = True)"
   ]
  },
  {
   "cell_type": "markdown",
   "metadata": {},
   "source": [
    "## Convert Categorical Data into Numeric"
   ]
  },
  {
   "cell_type": "markdown",
   "metadata": {},
   "source": [
    "### Call Type"
   ]
  },
  {
   "cell_type": "code",
   "execution_count": 5,
   "metadata": {},
   "outputs": [],
   "source": [
    "Call_Type_dict = {}\n",
    "for i, j in enumerate(df['Call Type'].unique()):\n",
    "    Call_Type_dict[j] = i\n",
    "    "
   ]
  },
  {
   "cell_type": "code",
   "execution_count": 6,
   "metadata": {},
   "outputs": [
    {
     "data": {
      "text/plain": [
       "{'Medical Incident': 0,\n",
       " 'Other': 1,\n",
       " 'Alarms': 2,\n",
       " 'Traffic Collision': 3,\n",
       " 'Structure Fire': 4,\n",
       " 'Outside Fire': 5,\n",
       " 'Citizen Assist / Service Call': 6}"
      ]
     },
     "execution_count": 6,
     "metadata": {},
     "output_type": "execute_result"
    }
   ],
   "source": [
    "Call_Type_dict"
   ]
  },
  {
   "cell_type": "code",
   "execution_count": 7,
   "metadata": {},
   "outputs": [],
   "source": [
    "df['Call Type'] = df['Call Type'].apply(lambda x: int(Call_Type_dict[x]))"
   ]
  },
  {
   "cell_type": "code",
   "execution_count": 8,
   "metadata": {},
   "outputs": [
    {
     "name": "stdout",
     "output_type": "stream",
     "text": [
      "<class 'pandas.core.frame.DataFrame'>\n",
      "Int64Index: 774872 entries, 0 to 1091289\n",
      "Data columns (total 13 columns):\n",
      "Call Type                               774872 non-null int64\n",
      "Original Priority                       774872 non-null object\n",
      "ALS Unit                                774872 non-null int64\n",
      "Unit Type                               774872 non-null object\n",
      "Unit sequence in call dispatch          774872 non-null float64\n",
      "Neighborhooods - Analysis Boundaries    774872 non-null object\n",
      "call_to_disp                            774872 non-null float64\n",
      "disp_to_resp                            774872 non-null float64\n",
      "resp_to_scene                           774872 non-null float64\n",
      "Call Year                               774872 non-null int64\n",
      "Call Month                              774872 non-null int64\n",
      "Call DoW                                774872 non-null int64\n",
      "Call ToD                                774872 non-null int64\n",
      "dtypes: float64(4), int64(6), object(3)\n",
      "memory usage: 82.8+ MB\n"
     ]
    }
   ],
   "source": [
    "df.info()"
   ]
  },
  {
   "cell_type": "markdown",
   "metadata": {},
   "source": [
    "### Original Priority"
   ]
  },
  {
   "cell_type": "code",
   "execution_count": 9,
   "metadata": {},
   "outputs": [
    {
     "data": {
      "text/plain": [
       "array(['3', '2', 'A', 'B', 'C', 'E', '1'], dtype=object)"
      ]
     },
     "execution_count": 9,
     "metadata": {},
     "output_type": "execute_result"
    }
   ],
   "source": [
    "df['Original Priority'].unique()"
   ]
  },
  {
   "cell_type": "code",
   "execution_count": 10,
   "metadata": {},
   "outputs": [
    {
     "name": "stdout",
     "output_type": "stream",
     "text": [
      "{'3': 0, '2': 1, 'A': 2, 'B': 3, 'C': 4, 'E': 5, '1': 6}\n"
     ]
    }
   ],
   "source": [
    "Orig_Prior_dict = {}\n",
    "for i, j in enumerate(df['Original Priority'].unique()):\n",
    "    Orig_Prior_dict[j] = i\n",
    "    \n",
    "print(Orig_Prior_dict)\n"
   ]
  },
  {
   "cell_type": "code",
   "execution_count": 11,
   "metadata": {},
   "outputs": [],
   "source": [
    "df['Original Priority'] = df['Original Priority'].apply(lambda x: int(Orig_Prior_dict[x]))"
   ]
  },
  {
   "cell_type": "code",
   "execution_count": 12,
   "metadata": {},
   "outputs": [
    {
     "name": "stdout",
     "output_type": "stream",
     "text": [
      "<class 'pandas.core.frame.DataFrame'>\n",
      "Int64Index: 774872 entries, 0 to 1091289\n",
      "Data columns (total 13 columns):\n",
      "Call Type                               774872 non-null int64\n",
      "Original Priority                       774872 non-null int64\n",
      "ALS Unit                                774872 non-null int64\n",
      "Unit Type                               774872 non-null object\n",
      "Unit sequence in call dispatch          774872 non-null float64\n",
      "Neighborhooods - Analysis Boundaries    774872 non-null object\n",
      "call_to_disp                            774872 non-null float64\n",
      "disp_to_resp                            774872 non-null float64\n",
      "resp_to_scene                           774872 non-null float64\n",
      "Call Year                               774872 non-null int64\n",
      "Call Month                              774872 non-null int64\n",
      "Call DoW                                774872 non-null int64\n",
      "Call ToD                                774872 non-null int64\n",
      "dtypes: float64(4), int64(7), object(2)\n",
      "memory usage: 82.8+ MB\n"
     ]
    }
   ],
   "source": [
    "df.info()"
   ]
  },
  {
   "cell_type": "markdown",
   "metadata": {},
   "source": [
    "### Unit Type"
   ]
  },
  {
   "cell_type": "code",
   "execution_count": 13,
   "metadata": {},
   "outputs": [
    {
     "data": {
      "text/plain": [
       "array(['MEDIC', 'PRIVATE', 'TRUCK', 'ENGINE', 'CHIEF', 'RESCUE CAPTAIN',\n",
       "       'SUPPORT', 'RESCUE SQUAD', 'INVESTIGATION', 'AIRPORT'],\n",
       "      dtype=object)"
      ]
     },
     "execution_count": 13,
     "metadata": {},
     "output_type": "execute_result"
    }
   ],
   "source": [
    "df['Unit Type'].unique()"
   ]
  },
  {
   "cell_type": "code",
   "execution_count": 14,
   "metadata": {},
   "outputs": [
    {
     "name": "stdout",
     "output_type": "stream",
     "text": [
      "{'MEDIC': 0, 'PRIVATE': 1, 'TRUCK': 2, 'ENGINE': 3, 'CHIEF': 4, 'RESCUE CAPTAIN': 5, 'SUPPORT': 6, 'RESCUE SQUAD': 7, 'INVESTIGATION': 8, 'AIRPORT': 9}\n"
     ]
    }
   ],
   "source": [
    "Unit_Type_dict = {}\n",
    "for i, j in enumerate(df['Unit Type'].unique()):\n",
    "    Unit_Type_dict[j] = i\n",
    "    \n",
    "print(Unit_Type_dict)"
   ]
  },
  {
   "cell_type": "code",
   "execution_count": 15,
   "metadata": {},
   "outputs": [],
   "source": [
    "df['Unit Type'] = df['Unit Type'].apply(lambda x: int(Unit_Type_dict[x]))"
   ]
  },
  {
   "cell_type": "code",
   "execution_count": 16,
   "metadata": {},
   "outputs": [
    {
     "name": "stdout",
     "output_type": "stream",
     "text": [
      "<class 'pandas.core.frame.DataFrame'>\n",
      "Int64Index: 774872 entries, 0 to 1091289\n",
      "Data columns (total 13 columns):\n",
      "Call Type                               774872 non-null int64\n",
      "Original Priority                       774872 non-null int64\n",
      "ALS Unit                                774872 non-null int64\n",
      "Unit Type                               774872 non-null int64\n",
      "Unit sequence in call dispatch          774872 non-null float64\n",
      "Neighborhooods - Analysis Boundaries    774872 non-null object\n",
      "call_to_disp                            774872 non-null float64\n",
      "disp_to_resp                            774872 non-null float64\n",
      "resp_to_scene                           774872 non-null float64\n",
      "Call Year                               774872 non-null int64\n",
      "Call Month                              774872 non-null int64\n",
      "Call DoW                                774872 non-null int64\n",
      "Call ToD                                774872 non-null int64\n",
      "dtypes: float64(4), int64(8), object(1)\n",
      "memory usage: 82.8+ MB\n"
     ]
    }
   ],
   "source": [
    "df.info()"
   ]
  },
  {
   "cell_type": "code",
   "execution_count": 17,
   "metadata": {},
   "outputs": [],
   "source": [
    "df['Unit sequence in call dispatch'] = df['Unit sequence in call dispatch'].astype('int64')"
   ]
  },
  {
   "cell_type": "code",
   "execution_count": 18,
   "metadata": {},
   "outputs": [
    {
     "name": "stdout",
     "output_type": "stream",
     "text": [
      "<class 'pandas.core.frame.DataFrame'>\n",
      "Int64Index: 774872 entries, 0 to 1091289\n",
      "Data columns (total 13 columns):\n",
      "Call Type                               774872 non-null int64\n",
      "Original Priority                       774872 non-null int64\n",
      "ALS Unit                                774872 non-null int64\n",
      "Unit Type                               774872 non-null int64\n",
      "Unit sequence in call dispatch          774872 non-null int64\n",
      "Neighborhooods - Analysis Boundaries    774872 non-null object\n",
      "call_to_disp                            774872 non-null float64\n",
      "disp_to_resp                            774872 non-null float64\n",
      "resp_to_scene                           774872 non-null float64\n",
      "Call Year                               774872 non-null int64\n",
      "Call Month                              774872 non-null int64\n",
      "Call DoW                                774872 non-null int64\n",
      "Call ToD                                774872 non-null int64\n",
      "dtypes: float64(3), int64(9), object(1)\n",
      "memory usage: 82.8+ MB\n"
     ]
    }
   ],
   "source": [
    "df.info()"
   ]
  },
  {
   "cell_type": "markdown",
   "metadata": {},
   "source": [
    "### Neighborhooods - Analysis Boundaries"
   ]
  },
  {
   "cell_type": "code",
   "execution_count": 19,
   "metadata": {},
   "outputs": [
    {
     "data": {
      "text/plain": [
       "array(['Tenderloin', 'Sunset/Parkside', 'South of Market',\n",
       "       'Financial District/South Beach', 'Lakeshore', 'Russian Hill',\n",
       "       'West of Twin Peaks', 'Western Addition', 'Outer Richmond',\n",
       "       'Mission', 'Bayview Hunters Point', 'Treasure Island',\n",
       "       'Bernal Heights', 'Outer Mission', 'Marina', 'Excelsior',\n",
       "       'Mission Bay', 'Lone Mountain/USF', 'Pacific Heights',\n",
       "       'Visitacion Valley', 'Nob Hill', 'Chinatown', 'Hayes Valley',\n",
       "       'Inner Richmond', 'Castro/Upper Market',\n",
       "       'Oceanview/Merced/Ingleside', 'North Beach', 'Presidio Heights',\n",
       "       'Haight Ashbury', 'Inner Sunset', 'Portola', 'Noe Valley',\n",
       "       'Golden Gate Park', 'Glen Park', 'Potrero Hill', 'None',\n",
       "       'Seacliff', 'Twin Peaks', 'Japantown', 'Presidio', 'McLaren Park',\n",
       "       'Lincoln Park'], dtype=object)"
      ]
     },
     "execution_count": 19,
     "metadata": {},
     "output_type": "execute_result"
    }
   ],
   "source": [
    "df['Neighborhooods - Analysis Boundaries'].unique()"
   ]
  },
  {
   "cell_type": "code",
   "execution_count": 20,
   "metadata": {},
   "outputs": [
    {
     "name": "stdout",
     "output_type": "stream",
     "text": [
      "{'Tenderloin': 0, 'Sunset/Parkside': 1, 'South of Market': 2, 'Financial District/South Beach': 3, 'Lakeshore': 4, 'Russian Hill': 5, 'West of Twin Peaks': 6, 'Western Addition': 7, 'Outer Richmond': 8, 'Mission': 9, 'Bayview Hunters Point': 10, 'Treasure Island': 11, 'Bernal Heights': 12, 'Outer Mission': 13, 'Marina': 14, 'Excelsior': 15, 'Mission Bay': 16, 'Lone Mountain/USF': 17, 'Pacific Heights': 18, 'Visitacion Valley': 19, 'Nob Hill': 20, 'Chinatown': 21, 'Hayes Valley': 22, 'Inner Richmond': 23, 'Castro/Upper Market': 24, 'Oceanview/Merced/Ingleside': 25, 'North Beach': 26, 'Presidio Heights': 27, 'Haight Ashbury': 28, 'Inner Sunset': 29, 'Portola': 30, 'Noe Valley': 31, 'Golden Gate Park': 32, 'Glen Park': 33, 'Potrero Hill': 34, 'None': 35, 'Seacliff': 36, 'Twin Peaks': 37, 'Japantown': 38, 'Presidio': 39, 'McLaren Park': 40, 'Lincoln Park': 41}\n"
     ]
    }
   ],
   "source": [
    "Neigh_dict = {}\n",
    "for i, j in enumerate(df['Neighborhooods - Analysis Boundaries'].unique()):\n",
    "    Neigh_dict[j] = i\n",
    "\n",
    "print(Neigh_dict)"
   ]
  },
  {
   "cell_type": "code",
   "execution_count": 21,
   "metadata": {},
   "outputs": [],
   "source": [
    "df['Neighborhooods - Analysis Boundaries'] = df['Neighborhooods - Analysis Boundaries'].apply(lambda x:\n",
    "                                                                                              int(Neigh_dict[x]))"
   ]
  },
  {
   "cell_type": "code",
   "execution_count": 22,
   "metadata": {},
   "outputs": [
    {
     "name": "stdout",
     "output_type": "stream",
     "text": [
      "<class 'pandas.core.frame.DataFrame'>\n",
      "Int64Index: 774872 entries, 0 to 1091289\n",
      "Data columns (total 13 columns):\n",
      "Call Type                               774872 non-null int64\n",
      "Original Priority                       774872 non-null int64\n",
      "ALS Unit                                774872 non-null int64\n",
      "Unit Type                               774872 non-null int64\n",
      "Unit sequence in call dispatch          774872 non-null int64\n",
      "Neighborhooods - Analysis Boundaries    774872 non-null int64\n",
      "call_to_disp                            774872 non-null float64\n",
      "disp_to_resp                            774872 non-null float64\n",
      "resp_to_scene                           774872 non-null float64\n",
      "Call Year                               774872 non-null int64\n",
      "Call Month                              774872 non-null int64\n",
      "Call DoW                                774872 non-null int64\n",
      "Call ToD                                774872 non-null int64\n",
      "dtypes: float64(3), int64(10)\n",
      "memory usage: 82.8 MB\n"
     ]
    }
   ],
   "source": [
    "df.info()"
   ]
  },
  {
   "cell_type": "markdown",
   "metadata": {},
   "source": [
    "## train/test split"
   ]
  },
  {
   "cell_type": "code",
   "execution_count": 23,
   "metadata": {},
   "outputs": [],
   "source": [
    "X = df.drop(labels=['call_to_disp','disp_to_resp','resp_to_scene'], axis=1)\n",
    "y = df[['call_to_disp','disp_to_resp','resp_to_scene']]"
   ]
  },
  {
   "cell_type": "code",
   "execution_count": 24,
   "metadata": {},
   "outputs": [],
   "source": [
    "X_train, X_test, y_train, y_test = train_test_split(X, y)"
   ]
  },
  {
   "cell_type": "code",
   "execution_count": 25,
   "metadata": {},
   "outputs": [
    {
     "data": {
      "text/plain": [
       "774872"
      ]
     },
     "execution_count": 25,
     "metadata": {},
     "output_type": "execute_result"
    }
   ],
   "source": [
    "len(df)"
   ]
  },
  {
   "cell_type": "markdown",
   "metadata": {},
   "source": [
    "## call_to_disp"
   ]
  },
  {
   "cell_type": "markdown",
   "metadata": {},
   "source": [
    "### Basic random forest as baseline"
   ]
  },
  {
   "cell_type": "code",
   "execution_count": 25,
   "metadata": {},
   "outputs": [],
   "source": [
    "#start out with a basic one to see how it performs"
   ]
  },
  {
   "cell_type": "code",
   "execution_count": 26,
   "metadata": {},
   "outputs": [],
   "source": [
    "model = RandomForestRegressor(n_estimators = 50, oob_score=True)"
   ]
  },
  {
   "cell_type": "code",
   "execution_count": 27,
   "metadata": {},
   "outputs": [
    {
     "data": {
      "text/plain": [
       "RandomForestRegressor(bootstrap=True, criterion='mse', max_depth=None,\n",
       "                      max_features='auto', max_leaf_nodes=None,\n",
       "                      min_impurity_decrease=0.0, min_impurity_split=None,\n",
       "                      min_samples_leaf=1, min_samples_split=2,\n",
       "                      min_weight_fraction_leaf=0.0, n_estimators=50,\n",
       "                      n_jobs=None, oob_score=True, random_state=None, verbose=0,\n",
       "                      warm_start=False)"
      ]
     },
     "execution_count": 27,
     "metadata": {},
     "output_type": "execute_result"
    }
   ],
   "source": [
    "model.fit(X_train, y_train['call_to_disp'])"
   ]
  },
  {
   "cell_type": "code",
   "execution_count": 28,
   "metadata": {},
   "outputs": [
    {
     "data": {
      "text/plain": [
       "0.03415932884191819"
      ]
     },
     "execution_count": 28,
     "metadata": {},
     "output_type": "execute_result"
    }
   ],
   "source": [
    "model.oob_score_"
   ]
  },
  {
   "cell_type": "markdown",
   "metadata": {},
   "source": [
    "## disp_to_resp - baseline"
   ]
  },
  {
   "cell_type": "code",
   "execution_count": 29,
   "metadata": {},
   "outputs": [],
   "source": [
    "model = RandomForestRegressor(n_estimators = 50, oob_score=True)"
   ]
  },
  {
   "cell_type": "code",
   "execution_count": 30,
   "metadata": {},
   "outputs": [
    {
     "data": {
      "text/plain": [
       "RandomForestRegressor(bootstrap=True, criterion='mse', max_depth=None,\n",
       "                      max_features='auto', max_leaf_nodes=None,\n",
       "                      min_impurity_decrease=0.0, min_impurity_split=None,\n",
       "                      min_samples_leaf=1, min_samples_split=2,\n",
       "                      min_weight_fraction_leaf=0.0, n_estimators=50,\n",
       "                      n_jobs=None, oob_score=True, random_state=None, verbose=0,\n",
       "                      warm_start=False)"
      ]
     },
     "execution_count": 30,
     "metadata": {},
     "output_type": "execute_result"
    }
   ],
   "source": [
    "model.fit(X_train, y_train['disp_to_resp'])"
   ]
  },
  {
   "cell_type": "code",
   "execution_count": 31,
   "metadata": {},
   "outputs": [
    {
     "data": {
      "text/plain": [
       "0.20152532892895414"
      ]
     },
     "execution_count": 31,
     "metadata": {},
     "output_type": "execute_result"
    }
   ],
   "source": [
    "model.oob_score_"
   ]
  },
  {
   "cell_type": "code",
   "execution_count": 32,
   "metadata": {},
   "outputs": [
    {
     "data": {
      "image/png": "[encoded data removed]",
      "text/plain": [
       "<Figure size 720x720 with 1 Axes>"
      ]
     },
     "metadata": {
      "needs_background": "light"
     },
     "output_type": "display_data"
    }
   ],
   "source": [
    "plt.figure(figsize=(10,10))\n",
    "plt.bar(range(len(X.columns)), model.feature_importances_)\n",
    "plt.xticks(ticks=range(len(X.columns)), labels = X.columns, rotation='vertical')\n",
    "plt.xlabel('Feature')\n",
    "plt.ylabel('Feature Importance')\n",
    "plt.tight_layout()"
   ]
  },
  {
   "cell_type": "markdown",
   "metadata": {},
   "source": [
    "## resp_to_scene - baseline"
   ]
  },
  {
   "cell_type": "code",
   "execution_count": 33,
   "metadata": {},
   "outputs": [],
   "source": [
    "model = RandomForestRegressor(n_estimators = 50, oob_score=True)"
   ]
  },
  {
   "cell_type": "code",
   "execution_count": 34,
   "metadata": {},
   "outputs": [
    {
     "data": {
      "text/plain": [
       "RandomForestRegressor(bootstrap=True, criterion='mse', max_depth=None,\n",
       "                      max_features='auto', max_leaf_nodes=None,\n",
       "                      min_impurity_decrease=0.0, min_impurity_split=None,\n",
       "                      min_samples_leaf=1, min_samples_split=2,\n",
       "                      min_weight_fraction_leaf=0.0, n_estimators=50,\n",
       "                      n_jobs=None, oob_score=True, random_state=None, verbose=0,\n",
       "                      warm_start=False)"
      ]
     },
     "execution_count": 34,
     "metadata": {},
     "output_type": "execute_result"
    }
   ],
   "source": [
    "model.fit(X_train, y_train['resp_to_scene'])"
   ]
  },
  {
   "cell_type": "code",
   "execution_count": 35,
   "metadata": {},
   "outputs": [
    {
     "data": {
      "text/plain": [
       "0.2739678454682918"
      ]
     },
     "execution_count": 35,
     "metadata": {},
     "output_type": "execute_result"
    }
   ],
   "source": [
    "model.oob_score_"
   ]
  },
  {
   "cell_type": "code",
   "execution_count": 36,
   "metadata": {},
   "outputs": [
    {
     "data": {
      "image/png": "[encoded data removed]",
      "text/plain": [
       "<Figure size 720x720 with 1 Axes>"
      ]
     },
     "metadata": {
      "needs_background": "light"
     },
     "output_type": "display_data"
    }
   ],
   "source": [
    "plt.figure(figsize=(10,10))\n",
    "plt.bar(range(len(X.columns)), model.feature_importances_)\n",
    "plt.xticks(ticks=range(len(X.columns)), labels = X.columns, rotation='vertical')\n",
    "plt.xlabel('Feature')\n",
    "plt.ylabel('Feature Importance')\n",
    "plt.tight_layout()"
   ]
  },
  {
   "cell_type": "markdown",
   "metadata": {},
   "source": [
    "## disp_to_resp Grid Search"
   ]
  },
  {
   "cell_type": "code",
   "execution_count": 35,
   "metadata": {},
   "outputs": [],
   "source": [
    "grid_param = {\n",
    "    'n_estimators': [50, 100, 200],\n",
    "    'criterion': ['mae','mse']\n",
    "    }"
   ]
  },
  {
   "cell_type": "code",
   "execution_count": 36,
   "metadata": {},
   "outputs": [],
   "source": [
    "GS = GridSearchCV(RandomForestRegressor(), grid_param)"
   ]
  },
  {
   "cell_type": "code",
   "execution_count": 37,
   "metadata": {},
   "outputs": [
    {
     "name": "stderr",
     "output_type": "stream",
     "text": [
      "/home/christopher/anaconda3/lib/python3.7/site-packages/sklearn/model_selection/_split.py:1978: FutureWarning: The default value of cv will change from 3 to 5 in version 0.22. Specify it explicitly to silence this warning.\n",
      "  warnings.warn(CV_WARNING, FutureWarning)\n"
     ]
    },
    {
     "data": {
      "text/plain": [
       "GridSearchCV(cv='warn', error_score='raise-deprecating',\n",
       "             estimator=RandomForestRegressor(bootstrap=True, criterion='mse',\n",
       "                                             max_depth=None,\n",
       "                                             max_features='auto',\n",
       "                                             max_leaf_nodes=None,\n",
       "                                             min_impurity_decrease=0.0,\n",
       "                                             min_impurity_split=None,\n",
       "                                             min_samples_leaf=1,\n",
       "                                             min_samples_split=2,\n",
       "                                             min_weight_fraction_leaf=0.0,\n",
       "                                             n_estimators='warn', n_jobs=None,\n",
       "                                             oob_score=False, random_state=None,\n",
       "                                             verbose=0, warm_start=False),\n",
       "             iid='warn', n_jobs=None, param_grid={'n_estimators': [50, 100]},\n",
       "             pre_dispatch='2*n_jobs', refit=True, return_train_score=False,\n",
       "             scoring=None, verbose=0)"
      ]
     },
     "execution_count": 37,
     "metadata": {},
     "output_type": "execute_result"
    }
   ],
   "source": [
    "GS.fit(X_train, y_train['disp_to_resp'])"
   ]
  },
  {
   "cell_type": "code",
   "execution_count": null,
   "metadata": {},
   "outputs": [
    {
     "name": "stderr",
     "output_type": "stream",
     "text": [
      "/home/christopher/anaconda3/lib/python3.7/site-packages/sklearn/externals/joblib/__init__.py:15: DeprecationWarning: sklearn.externals.joblib is deprecated in 0.21 and will be removed in 0.23. Please import this functionality directly from joblib, which can be installed with: pip install joblib. If this warning is raised when loading pickled models, you may need to re-serialize those models with scikit-learn 0.21+.\n",
      "  warnings.warn(msg, category=DeprecationWarning)\n"
     ]
    }
   ],
   "source": [
    "from sklearn.externals.joblib import parallel_backend\n",
    "with parallel_backend('threading'):\n",
    "    GS.fit(X_train, y_train['disp_to_resp'])"
   ]
  },
  {
   "cell_type": "code",
   "execution_count": 39,
   "metadata": {},
   "outputs": [
    {
     "data": {
      "text/plain": [
       "0.2344501001384551"
      ]
     },
     "execution_count": 39,
     "metadata": {},
     "output_type": "execute_result"
    }
   ],
   "source": [
    "GS.best_score_"
   ]
  },
  {
   "cell_type": "code",
   "execution_count": null,
   "metadata": {},
   "outputs": [],
   "source": []
  }
 ],
 "metadata": {
  "kernelspec": {
   "display_name": "Python 3",
   "language": "python",
   "name": "python3"
  },
  "language_info": {
   "codemirror_mode": {
    "name": "ipython",
    "version": 3
   },
   "file_extension": ".py",
   "mimetype": "text/x-python",
   "name": "python",
   "nbconvert_exporter": "python",
   "pygments_lexer": "ipython3",
   "version": "3.7.4"
  }
 },
 "nbformat": 4,
 "nbformat_minor": 2
}
